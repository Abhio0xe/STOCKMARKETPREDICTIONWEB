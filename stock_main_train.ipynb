{
 "cells": [
  {
   "cell_type": "code",
   "execution_count": 1,
   "id": "e3a7736b-c0a4-4447-b4a3-bfa6df289bc7",
   "metadata": {},
   "outputs": [],
   "source": [
    "## stock data processing -> matplotlib"
   ]
  },
  {
   "cell_type": "code",
   "execution_count": 2,
   "id": "df084f9e-a9f7-4f50-97c9-cf99c2bbe820",
   "metadata": {},
   "outputs": [],
   "source": [
    "import pandas as pd\n",
    "import numpy as np\n",
    "import matplotlib.pyplot as plt\n",
    "import yfinance as yf"
   ]
  },
  {
   "cell_type": "code",
   "execution_count": 3,
   "id": "c627efa8-dad3-4c6c-b9ee-75fecb641476",
   "metadata": {},
   "outputs": [
    {
     "name": "stderr",
     "output_type": "stream",
     "text": [
      "[*********************100%***********************]  1 of 1 completed\n"
     ]
    }
   ],
   "source": [
    "start = '2013-10-20'\n",
    "end = '2023-10-20'\n",
    "\n",
    "stock = 'GOOG'\n",
    "\n",
    "data = yf.download(stock, start, end)\n"
   ]
  },
  {
   "cell_type": "code",
   "execution_count": 4,
   "id": "9f4a8f11-ac6a-4c47-b94d-bd6eeb9ed3de",
   "metadata": {},
   "outputs": [
    {
     "data": {
      "text/html": [
       "<div>\n",
       "<style scoped>\n",
       "    .dataframe tbody tr th:only-of-type {\n",
       "        vertical-align: middle;\n",
       "    }\n",
       "\n",
       "    .dataframe tbody tr th {\n",
       "        vertical-align: top;\n",
       "    }\n",
       "\n",
       "    .dataframe thead th {\n",
       "        text-align: right;\n",
       "    }\n",
       "</style>\n",
       "<table border=\"1\" class=\"dataframe\">\n",
       "  <thead>\n",
       "    <tr style=\"text-align: right;\">\n",
       "      <th></th>\n",
       "      <th>Open</th>\n",
       "      <th>High</th>\n",
       "      <th>Low</th>\n",
       "      <th>Close</th>\n",
       "      <th>Adj Close</th>\n",
       "      <th>Volume</th>\n",
       "    </tr>\n",
       "    <tr>\n",
       "      <th>Date</th>\n",
       "      <th></th>\n",
       "      <th></th>\n",
       "      <th></th>\n",
       "      <th></th>\n",
       "      <th></th>\n",
       "      <th></th>\n",
       "    </tr>\n",
       "  </thead>\n",
       "  <tbody>\n",
       "    <tr>\n",
       "      <th>2013-10-21</th>\n",
       "      <td>25.192074</td>\n",
       "      <td>25.379869</td>\n",
       "      <td>24.895435</td>\n",
       "      <td>24.988836</td>\n",
       "      <td>24.927618</td>\n",
       "      <td>145675990</td>\n",
       "    </tr>\n",
       "    <tr>\n",
       "      <th>2013-10-22</th>\n",
       "      <td>25.031178</td>\n",
       "      <td>25.230431</td>\n",
       "      <td>24.801786</td>\n",
       "      <td>25.080990</td>\n",
       "      <td>25.019547</td>\n",
       "      <td>88675135</td>\n",
       "    </tr>\n",
       "    <tr>\n",
       "      <th>2013-10-23</th>\n",
       "      <td>24.931549</td>\n",
       "      <td>25.772150</td>\n",
       "      <td>24.922335</td>\n",
       "      <td>25.688961</td>\n",
       "      <td>25.626028</td>\n",
       "      <td>106927293</td>\n",
       "    </tr>\n",
       "    <tr>\n",
       "      <th>2013-10-24</th>\n",
       "      <td>25.700418</td>\n",
       "      <td>25.917107</td>\n",
       "      <td>25.524328</td>\n",
       "      <td>25.543009</td>\n",
       "      <td>25.480433</td>\n",
       "      <td>83997668</td>\n",
       "    </tr>\n",
       "    <tr>\n",
       "      <th>2013-10-25</th>\n",
       "      <td>25.624453</td>\n",
       "      <td>25.624453</td>\n",
       "      <td>25.174141</td>\n",
       "      <td>25.285225</td>\n",
       "      <td>25.223282</td>\n",
       "      <td>81524432</td>\n",
       "    </tr>\n",
       "    <tr>\n",
       "      <th>...</th>\n",
       "      <td>...</td>\n",
       "      <td>...</td>\n",
       "      <td>...</td>\n",
       "      <td>...</td>\n",
       "      <td>...</td>\n",
       "      <td>...</td>\n",
       "    </tr>\n",
       "    <tr>\n",
       "      <th>2023-10-13</th>\n",
       "      <td>140.649994</td>\n",
       "      <td>141.339996</td>\n",
       "      <td>137.970001</td>\n",
       "      <td>138.580002</td>\n",
       "      <td>138.240509</td>\n",
       "      <td>19438700</td>\n",
       "    </tr>\n",
       "    <tr>\n",
       "      <th>2023-10-16</th>\n",
       "      <td>139.729996</td>\n",
       "      <td>140.904999</td>\n",
       "      <td>139.320007</td>\n",
       "      <td>140.490005</td>\n",
       "      <td>140.145844</td>\n",
       "      <td>17345600</td>\n",
       "    </tr>\n",
       "    <tr>\n",
       "      <th>2023-10-17</th>\n",
       "      <td>140.029999</td>\n",
       "      <td>141.250000</td>\n",
       "      <td>138.529007</td>\n",
       "      <td>140.990005</td>\n",
       "      <td>140.644608</td>\n",
       "      <td>17424000</td>\n",
       "    </tr>\n",
       "    <tr>\n",
       "      <th>2023-10-18</th>\n",
       "      <td>140.750000</td>\n",
       "      <td>141.990005</td>\n",
       "      <td>138.705002</td>\n",
       "      <td>139.279999</td>\n",
       "      <td>138.938797</td>\n",
       "      <td>18304900</td>\n",
       "    </tr>\n",
       "    <tr>\n",
       "      <th>2023-10-19</th>\n",
       "      <td>139.800003</td>\n",
       "      <td>141.005005</td>\n",
       "      <td>138.600006</td>\n",
       "      <td>138.979996</td>\n",
       "      <td>138.639526</td>\n",
       "      <td>21831200</td>\n",
       "    </tr>\n",
       "  </tbody>\n",
       "</table>\n",
       "<p>2517 rows × 6 columns</p>\n",
       "</div>"
      ],
      "text/plain": [
       "                  Open        High         Low       Close   Adj Close  \\\n",
       "Date                                                                     \n",
       "2013-10-21   25.192074   25.379869   24.895435   24.988836   24.927618   \n",
       "2013-10-22   25.031178   25.230431   24.801786   25.080990   25.019547   \n",
       "2013-10-23   24.931549   25.772150   24.922335   25.688961   25.626028   \n",
       "2013-10-24   25.700418   25.917107   25.524328   25.543009   25.480433   \n",
       "2013-10-25   25.624453   25.624453   25.174141   25.285225   25.223282   \n",
       "...                ...         ...         ...         ...         ...   \n",
       "2023-10-13  140.649994  141.339996  137.970001  138.580002  138.240509   \n",
       "2023-10-16  139.729996  140.904999  139.320007  140.490005  140.145844   \n",
       "2023-10-17  140.029999  141.250000  138.529007  140.990005  140.644608   \n",
       "2023-10-18  140.750000  141.990005  138.705002  139.279999  138.938797   \n",
       "2023-10-19  139.800003  141.005005  138.600006  138.979996  138.639526   \n",
       "\n",
       "               Volume  \n",
       "Date                   \n",
       "2013-10-21  145675990  \n",
       "2013-10-22   88675135  \n",
       "2013-10-23  106927293  \n",
       "2013-10-24   83997668  \n",
       "2013-10-25   81524432  \n",
       "...               ...  \n",
       "2023-10-13   19438700  \n",
       "2023-10-16   17345600  \n",
       "2023-10-17   17424000  \n",
       "2023-10-18   18304900  \n",
       "2023-10-19   21831200  \n",
       "\n",
       "[2517 rows x 6 columns]"
      ]
     },
     "execution_count": 4,
     "metadata": {},
     "output_type": "execute_result"
    }
   ],
   "source": [
    "data"
   ]
  },
  {
   "cell_type": "code",
   "execution_count": 5,
   "id": "2249de95-f7b9-4059-b41d-7358993f4abe",
   "metadata": {},
   "outputs": [],
   "source": [
    "# Calculate 100-day moving average\n",
    "ma_100_days = data.Close.rolling(window=100).mean()"
   ]
  },
  {
   "cell_type": "code",
   "execution_count": 6,
   "id": "4446a591-3cc9-4afa-bd3c-54fcef4a7fd2",
   "metadata": {},
   "outputs": [
    {
     "data": {
      "image/png": "[encoded data removed]",
      "text/plain": [
       "<Figure size 800x600 with 1 Axes>"
      ]
     },
     "metadata": {},
     "output_type": "display_data"
    }
   ],
   "source": [
    "plt.figure(figsize=(8,6))\n",
    "plt.plot(ma_100_days, 'r', label='100-day MA')\n",
    "plt.plot(data.Close, 'g',  label='Close Price')\n",
    "plt.show()"
   ]
  },
  {
   "cell_type": "code",
   "execution_count": 7,
   "id": "097b4d28-e0df-4f95-a801-3253aede8b98",
   "metadata": {},
   "outputs": [],
   "source": [
    "ma_200_days = data.Close.rolling(100).mean()"
   ]
  },
  {
   "cell_type": "code",
   "execution_count": 8,
   "id": "9b4a0b5e-b589-4b93-bd10-6311f9b3fd3e",
   "metadata": {},
   "outputs": [
    {
     "data": {
      "image/png": "[encoded data removed]",
      "text/plain": [
       "<Figure size 800x600 with 1 Axes>"
      ]
     },
     "metadata": {},
     "output_type": "display_data"
    }
   ],
   "source": [
    "\n",
    "plt.figure(figsize=(8,6))\n",
    "plt.plot(ma_100_days, 'r', label='ma_100_days')\n",
    "plt.plot(ma_200_days, 'b', label='ma_200_days')\n",
    "plt.plot(data['Close'], 'g', label='Close Price')\n",
    "plt.legend()\n",
    "plt.show()"
   ]
  },
  {
   "cell_type": "code",
   "execution_count": 9,
   "id": "cd3caa91-b91c-4efb-bc0f-6b87da119fbc",
   "metadata": {},
   "outputs": [],
   "source": [
    "## training data"
   ]
  },
  {
   "cell_type": "code",
   "execution_count": 10,
   "id": "04ceed7f-7474-410a-8e8c-2c87d699f587",
   "metadata": {},
   "outputs": [],
   "source": [
    "data.dropna(inplace=True)"
   ]
  },
  {
   "cell_type": "code",
   "execution_count": 11,
   "id": "ff6d389e-b7b5-4543-9142-489a2813ab89",
   "metadata": {},
   "outputs": [],
   "source": [
    "data_train = pd.DataFrame(data.Close[0: int(len(data)*0.80)])\n",
    "data_test = pd.DataFrame(data.Close[int(len(data)*0.80): len(data)])"
   ]
  },
  {
   "cell_type": "code",
   "execution_count": 12,
   "id": "ffb06fa6-55bb-4374-866c-fc10b9cce832",
   "metadata": {},
   "outputs": [
    {
     "data": {
      "text/plain": [
       "2013"
      ]
     },
     "execution_count": 12,
     "metadata": {},
     "output_type": "execute_result"
    }
   ],
   "source": [
    "data_train.shape[0]"
   ]
  },
  {
   "cell_type": "code",
   "execution_count": 13,
   "id": "302179be-9412-43a5-b72e-a006b5a600b8",
   "metadata": {},
   "outputs": [
    {
     "data": {
      "text/plain": [
       "504"
      ]
     },
     "execution_count": 13,
     "metadata": {},
     "output_type": "execute_result"
    }
   ],
   "source": [
    "data_test.shape[0]"
   ]
  },
  {
   "cell_type": "code",
   "execution_count": 14,
   "id": "a17c6443-2195-43e3-919c-8a4f5a156d2b",
   "metadata": {},
   "outputs": [],
   "source": [
    "## MACHINE learning lets gooooo\n",
    "## trainging model \n",
    "## by using neural network on basis of 10 days data"
   ]
  },
  {
   "cell_type": "code",
   "execution_count": 15,
   "id": "167f8f45-d79a-434e-865c-c4fa81a957d3",
   "metadata": {},
   "outputs": [
    {
     "name": "stdout",
     "output_type": "stream",
     "text": [
      "Requirement already satisfied: scikit-learn in /Users/abhishekmishra/Library/jupyterlab-desktop/jlab_server/lib/python3.12/site-packages (1.5.2)\n",
      "Requirement already satisfied: numpy>=1.19.5 in /Users/abhishekmishra/Library/jupyterlab-desktop/jlab_server/lib/python3.12/site-packages (from scikit-learn) (1.26.4)\n",
      "Requirement already satisfied: scipy>=1.6.0 in /Users/abhishekmishra/Library/jupyterlab-desktop/jlab_server/lib/python3.12/site-packages (from scikit-learn) (1.14.1)\n",
      "Requirement already satisfied: joblib>=1.2.0 in /Users/abhishekmishra/Library/jupyterlab-desktop/jlab_server/lib/python3.12/site-packages (from scikit-learn) (1.4.2)\n",
      "Requirement already satisfied: threadpoolctl>=3.1.0 in /Users/abhishekmishra/Library/jupyterlab-desktop/jlab_server/lib/python3.12/site-packages (from scikit-learn) (3.5.0)\n",
      "Note: you may need to restart the kernel to use updated packages.\n"
     ]
    }
   ],
   "source": [
    "pip install scikit-learn"
   ]
  },
  {
   "cell_type": "code",
   "execution_count": 16,
   "id": "a9c4795f-f8a0-4774-9f94-6ee347e3d0de",
   "metadata": {},
   "outputs": [],
   "source": [
    "from sklearn.preprocessing import MinMaxScaler\n",
    "scaler = MinMaxScaler(feature_range=(0,1))"
   ]
  },
  {
   "cell_type": "code",
   "execution_count": 17,
   "id": "31af8631-0659-402b-8e40-61b40821617f",
   "metadata": {},
   "outputs": [],
   "source": [
    "data_train_scale = scaler.fit_transform(data_train)"
   ]
  },
  {
   "cell_type": "code",
   "execution_count": 18,
   "id": "7169981e-da57-4cb8-8a26-7a819890d4a8",
   "metadata": {},
   "outputs": [
    {
     "data": {
      "text/plain": [
       "(13, 14, 15, 16, 17, 18, 19, 20, 21, 22)"
      ]
     },
     "execution_count": 18,
     "metadata": {},
     "output_type": "execute_result"
    }
   ],
   "source": [
    "13,14,15,16,17,18,19,20,21,22"
   ]
  },
  {
   "cell_type": "code",
   "execution_count": 19,
   "id": "f805e21d-cc5c-41e0-ae77-24a9178fee9d",
   "metadata": {},
   "outputs": [],
   "source": [
    "x = []\n",
    "y = []\n",
    "\n",
    "for i in range(100, data_train_scale.shape[0]):\n",
    "    x.append(data_train_scale[i-100:i])\n",
    "    y.append(data_train_scale[i,0])"
   ]
  },
  {
   "cell_type": "code",
   "execution_count": 20,
   "id": "a0c4f8e1-811c-4a73-8227-00b2be066200",
   "metadata": {},
   "outputs": [],
   "source": [
    "##using keras lstm dropout dense layer\n"
   ]
  },
  {
   "cell_type": "code",
   "execution_count": 21,
   "id": "cac299e4-3a90-4436-8eae-6677eea256a5",
   "metadata": {},
   "outputs": [
    {
     "name": "stdout",
     "output_type": "stream",
     "text": [
      "Requirement already satisfied: keras in /Users/abhishekmishra/Library/jupyterlab-desktop/jlab_server/lib/python3.12/site-packages (3.6.0)\n",
      "Requirement already satisfied: absl-py in /Users/abhishekmishra/Library/jupyterlab-desktop/jlab_server/lib/python3.12/site-packages (from keras) (2.1.0)\n",
      "Requirement already satisfied: numpy in /Users/abhishekmishra/Library/jupyterlab-desktop/jlab_server/lib/python3.12/site-packages (from keras) (1.26.4)\n",
      "Requirement already satisfied: rich in /Users/abhishekmishra/Library/jupyterlab-desktop/jlab_server/lib/python3.12/site-packages (from keras) (13.9.2)\n",
      "Requirement already satisfied: namex in /Users/abhishekmishra/Library/jupyterlab-desktop/jlab_server/lib/python3.12/site-packages (from keras) (0.0.8)\n",
      "Requirement already satisfied: h5py in /Users/abhishekmishra/Library/jupyterlab-desktop/jlab_server/lib/python3.12/site-packages (from keras) (3.12.1)\n",
      "Requirement already satisfied: optree in /Users/abhishekmishra/Library/jupyterlab-desktop/jlab_server/lib/python3.12/site-packages (from keras) (0.13.0)\n",
      "Requirement already satisfied: ml-dtypes in /Users/abhishekmishra/Library/jupyterlab-desktop/jlab_server/lib/python3.12/site-packages (from keras) (0.4.1)\n",
      "Requirement already satisfied: packaging in /Users/abhishekmishra/Library/jupyterlab-desktop/jlab_server/lib/python3.12/site-packages (from keras) (24.1)\n",
      "Requirement already satisfied: typing-extensions>=4.5.0 in /Users/abhishekmishra/Library/jupyterlab-desktop/jlab_server/lib/python3.12/site-packages (from optree->keras) (4.12.2)\n",
      "Requirement already satisfied: markdown-it-py>=2.2.0 in /Users/abhishekmishra/Library/jupyterlab-desktop/jlab_server/lib/python3.12/site-packages (from rich->keras) (3.0.0)\n",
      "Requirement already satisfied: pygments<3.0.0,>=2.13.0 in /Users/abhishekmishra/Library/jupyterlab-desktop/jlab_server/lib/python3.12/site-packages (from rich->keras) (2.18.0)\n",
      "Requirement already satisfied: mdurl~=0.1 in /Users/abhishekmishra/Library/jupyterlab-desktop/jlab_server/lib/python3.12/site-packages (from markdown-it-py>=2.2.0->rich->keras) (0.1.2)\n",
      "Note: you may need to restart the kernel to use updated packages.\n"
     ]
    }
   ],
   "source": [
    "pip install keras\n"
   ]
  },
  {
   "cell_type": "code",
   "execution_count": 22,
   "id": "a8cff236-9411-4690-990a-3627abb2a56e",
   "metadata": {},
   "outputs": [
    {
     "name": "stdout",
     "output_type": "stream",
     "text": [
      "Requirement already satisfied: tensorflow in /Users/abhishekmishra/Library/jupyterlab-desktop/jlab_server/lib/python3.12/site-packages (2.17.0)\n",
      "Requirement already satisfied: absl-py>=1.0.0 in /Users/abhishekmishra/Library/jupyterlab-desktop/jlab_server/lib/python3.12/site-packages (from tensorflow) (2.1.0)\n",
      "Requirement already satisfied: astunparse>=1.6.0 in /Users/abhishekmishra/Library/jupyterlab-desktop/jlab_server/lib/python3.12/site-packages (from tensorflow) (1.6.3)\n",
      "Requirement already satisfied: flatbuffers>=24.3.25 in /Users/abhishekmishra/Library/jupyterlab-desktop/jlab_server/lib/python3.12/site-packages (from tensorflow) (24.3.25)\n",
      "Requirement already satisfied: gast!=0.5.0,!=0.5.1,!=0.5.2,>=0.2.1 in /Users/abhishekmishra/Library/jupyterlab-desktop/jlab_server/lib/python3.12/site-packages (from tensorflow) (0.6.0)\n",
      "Requirement already satisfied: google-pasta>=0.1.1 in /Users/abhishekmishra/Library/jupyterlab-desktop/jlab_server/lib/python3.12/site-packages (from tensorflow) (0.2.0)\n",
      "Requirement already satisfied: h5py>=3.10.0 in /Users/abhishekmishra/Library/jupyterlab-desktop/jlab_server/lib/python3.12/site-packages (from tensorflow) (3.12.1)\n",
      "Requirement already satisfied: libclang>=13.0.0 in /Users/abhishekmishra/Library/jupyterlab-desktop/jlab_server/lib/python3.12/site-packages (from tensorflow) (18.1.1)\n",
      "Requirement already satisfied: ml-dtypes<0.5.0,>=0.3.1 in /Users/abhishekmishra/Library/jupyterlab-desktop/jlab_server/lib/python3.12/site-packages (from tensorflow) (0.4.1)\n",
      "Requirement already satisfied: opt-einsum>=2.3.2 in /Users/abhishekmishra/Library/jupyterlab-desktop/jlab_server/lib/python3.12/site-packages (from tensorflow) (3.4.0)\n",
      "Requirement already satisfied: packaging in /Users/abhishekmishra/Library/jupyterlab-desktop/jlab_server/lib/python3.12/site-packages (from tensorflow) (24.1)\n",
      "Requirement already satisfied: protobuf!=4.21.0,!=4.21.1,!=4.21.2,!=4.21.3,!=4.21.4,!=4.21.5,<5.0.0dev,>=3.20.3 in /Users/abhishekmishra/Library/jupyterlab-desktop/jlab_server/lib/python3.12/site-packages (from tensorflow) (4.25.5)\n",
      "Requirement already satisfied: requests<3,>=2.21.0 in /Users/abhishekmishra/Library/jupyterlab-desktop/jlab_server/lib/python3.12/site-packages (from tensorflow) (2.32.3)\n",
      "Requirement already satisfied: setuptools in /Users/abhishekmishra/Library/jupyterlab-desktop/jlab_server/lib/python3.12/site-packages (from tensorflow) (72.2.0)\n",
      "Requirement already satisfied: six>=1.12.0 in /Users/abhishekmishra/Library/jupyterlab-desktop/jlab_server/lib/python3.12/site-packages (from tensorflow) (1.16.0)\n",
      "Requirement already satisfied: termcolor>=1.1.0 in /Users/abhishekmishra/Library/jupyterlab-desktop/jlab_server/lib/python3.12/site-packages (from tensorflow) (2.5.0)\n",
      "Requirement already satisfied: typing-extensions>=3.6.6 in /Users/abhishekmishra/Library/jupyterlab-desktop/jlab_server/lib/python3.12/site-packages (from tensorflow) (4.12.2)\n",
      "Requirement already satisfied: wrapt>=1.11.0 in /Users/abhishekmishra/Library/jupyterlab-desktop/jlab_server/lib/python3.12/site-packages (from tensorflow) (1.16.0)\n",
      "Requirement already satisfied: grpcio<2.0,>=1.24.3 in /Users/abhishekmishra/Library/jupyterlab-desktop/jlab_server/lib/python3.12/site-packages (from tensorflow) (1.66.2)\n",
      "Requirement already satisfied: tensorboard<2.18,>=2.17 in /Users/abhishekmishra/Library/jupyterlab-desktop/jlab_server/lib/python3.12/site-packages (from tensorflow) (2.17.1)\n",
      "Requirement already satisfied: keras>=3.2.0 in /Users/abhishekmishra/Library/jupyterlab-desktop/jlab_server/lib/python3.12/site-packages (from tensorflow) (3.6.0)\n",
      "Requirement already satisfied: numpy<2.0.0,>=1.26.0 in /Users/abhishekmishra/Library/jupyterlab-desktop/jlab_server/lib/python3.12/site-packages (from tensorflow) (1.26.4)\n",
      "Requirement already satisfied: wheel<1.0,>=0.23.0 in /Users/abhishekmishra/Library/jupyterlab-desktop/jlab_server/lib/python3.12/site-packages (from astunparse>=1.6.0->tensorflow) (0.44.0)\n",
      "Requirement already satisfied: rich in /Users/abhishekmishra/Library/jupyterlab-desktop/jlab_server/lib/python3.12/site-packages (from keras>=3.2.0->tensorflow) (13.9.2)\n",
      "Requirement already satisfied: namex in /Users/abhishekmishra/Library/jupyterlab-desktop/jlab_server/lib/python3.12/site-packages (from keras>=3.2.0->tensorflow) (0.0.8)\n",
      "Requirement already satisfied: optree in /Users/abhishekmishra/Library/jupyterlab-desktop/jlab_server/lib/python3.12/site-packages (from keras>=3.2.0->tensorflow) (0.13.0)\n",
      "Requirement already satisfied: charset-normalizer<4,>=2 in /Users/abhishekmishra/Library/jupyterlab-desktop/jlab_server/lib/python3.12/site-packages (from requests<3,>=2.21.0->tensorflow) (3.3.2)\n",
      "Requirement already satisfied: idna<4,>=2.5 in /Users/abhishekmishra/Library/jupyterlab-desktop/jlab_server/lib/python3.12/site-packages (from requests<3,>=2.21.0->tensorflow) (3.8)\n",
      "Requirement already satisfied: urllib3<3,>=1.21.1 in /Users/abhishekmishra/Library/jupyterlab-desktop/jlab_server/lib/python3.12/site-packages (from requests<3,>=2.21.0->tensorflow) (2.2.2)\n",
      "Requirement already satisfied: certifi>=2017.4.17 in /Users/abhishekmishra/Library/jupyterlab-desktop/jlab_server/lib/python3.12/site-packages (from requests<3,>=2.21.0->tensorflow) (2024.7.4)\n",
      "Requirement already satisfied: markdown>=2.6.8 in /Users/abhishekmishra/Library/jupyterlab-desktop/jlab_server/lib/python3.12/site-packages (from tensorboard<2.18,>=2.17->tensorflow) (3.7)\n",
      "Requirement already satisfied: tensorboard-data-server<0.8.0,>=0.7.0 in /Users/abhishekmishra/Library/jupyterlab-desktop/jlab_server/lib/python3.12/site-packages (from tensorboard<2.18,>=2.17->tensorflow) (0.7.2)\n",
      "Requirement already satisfied: werkzeug>=1.0.1 in /Users/abhishekmishra/Library/jupyterlab-desktop/jlab_server/lib/python3.12/site-packages (from tensorboard<2.18,>=2.17->tensorflow) (3.0.4)\n",
      "Requirement already satisfied: MarkupSafe>=2.1.1 in /Users/abhishekmishra/Library/jupyterlab-desktop/jlab_server/lib/python3.12/site-packages (from werkzeug>=1.0.1->tensorboard<2.18,>=2.17->tensorflow) (2.1.5)\n",
      "Requirement already satisfied: markdown-it-py>=2.2.0 in /Users/abhishekmishra/Library/jupyterlab-desktop/jlab_server/lib/python3.12/site-packages (from rich->keras>=3.2.0->tensorflow) (3.0.0)\n",
      "Requirement already satisfied: pygments<3.0.0,>=2.13.0 in /Users/abhishekmishra/Library/jupyterlab-desktop/jlab_server/lib/python3.12/site-packages (from rich->keras>=3.2.0->tensorflow) (2.18.0)\n",
      "Requirement already satisfied: mdurl~=0.1 in /Users/abhishekmishra/Library/jupyterlab-desktop/jlab_server/lib/python3.12/site-packages (from markdown-it-py>=2.2.0->rich->keras>=3.2.0->tensorflow) (0.1.2)\n",
      "Note: you may need to restart the kernel to use updated packages.\n"
     ]
    }
   ],
   "source": [
    "pip install tensorflow\n"
   ]
  },
  {
   "cell_type": "code",
   "execution_count": 23,
   "id": "b2ef295d-f453-4003-9804-c1d3f3df95af",
   "metadata": {},
   "outputs": [],
   "source": [
    "x,y = np.array(x), np.array(y)"
   ]
  },
  {
   "cell_type": "code",
   "execution_count": 24,
   "id": "7792dc23-0b47-4bea-a57a-5c5095f43db6",
   "metadata": {},
   "outputs": [],
   "source": [
    "from tensorflow.keras.layers import Dense, Dropout, LSTM\n",
    "from tensorflow.keras.models import Sequential"
   ]
  },
  {
   "cell_type": "code",
   "execution_count": 25,
   "id": "722484c5-b1d5-4526-8752-bca83a528d63",
   "metadata": {},
   "outputs": [
    {
     "name": "stderr",
     "output_type": "stream",
     "text": [
      "/Users/abhishekmishra/Library/jupyterlab-desktop/jlab_server/lib/python3.12/site-packages/keras/src/layers/rnn/rnn.py:204: UserWarning: Do not pass an `input_shape`/`input_dim` argument to a layer. When using Sequential models, prefer using an `Input(shape)` object as the first layer in the model instead.\n",
      "  super().__init__(**kwargs)\n"
     ]
    }
   ],
   "source": [
    "\n",
    "\n",
    "# Create the Sequential model\n",
    "model = Sequential()\n",
    "\n",
    "# Add LSTM layers with Dropout\n",
    "model.add(LSTM(units=50, activation='relu', return_sequences=True, input_shape=(x.shape[1], 1)))\n",
    "model.add(Dropout(0.2))\n",
    "\n",
    "model.add(LSTM(units=60, activation='relu', return_sequences=True))\n",
    "model.add(Dropout(0.3))\n",
    "\n",
    "model.add(LSTM(units=80, activation='relu', return_sequences=True))\n",
    "model.add(Dropout(0.4))\n",
    "\n",
    "model.add(LSTM(units=120, activation='relu'))\n",
    "model.add(Dropout(0.5))\n",
    "\n",
    "# Add a Dense layer for output\n",
    "model.add(Dense(units=1))\n"
   ]
  },
  {
   "cell_type": "code",
   "execution_count": 26,
   "id": "4350b5d6-a2ce-4402-8c8a-0da9ed4b5363",
   "metadata": {},
   "outputs": [],
   "source": [
    "# Compile the model (you can adjust the optimizer and loss as per your task)\n",
    "model.compile(optimizer='adam', loss='mean_squared_error')\n",
    "\n",
    "# Fit the model (assuming `x` and `y` are your training data)\n",
    "# model.fit(x, y, epochs=20, batch_size=32)"
   ]
  },
  {
   "cell_type": "code",
   "execution_count": 27,
   "id": "998a41bc-c31c-4f25-8756-e39b298f3a05",
   "metadata": {},
   "outputs": [
    {
     "name": "stdout",
     "output_type": "stream",
     "text": [
      "Shape of x: (1913, 100, 1)\n",
      "Shape of y: (1913,)\n",
      "Epoch 1/50\n",
      "\u001b[1m60/60\u001b[0m \u001b[32m━━━━━━━━━━━━━━━━━━━━\u001b[0m\u001b[37m\u001b[0m \u001b[1m8s\u001b[0m 103ms/step - loss: 0.0482\n",
      "Epoch 2/50\n",
      "\u001b[1m60/60\u001b[0m \u001b[32m━━━━━━━━━━━━━━━━━━━━\u001b[0m\u001b[37m\u001b[0m \u001b[1m6s\u001b[0m 104ms/step - loss: 0.0054\n",
      "Epoch 3/50\n",
      "\u001b[1m60/60\u001b[0m \u001b[32m━━━━━━━━━━━━━━━━━━━━\u001b[0m\u001b[37m\u001b[0m \u001b[1m6s\u001b[0m 104ms/step - loss: 0.0046\n",
      "Epoch 4/50\n",
      "\u001b[1m60/60\u001b[0m \u001b[32m━━━━━━━━━━━━━━━━━━━━\u001b[0m\u001b[37m\u001b[0m \u001b[1m6s\u001b[0m 105ms/step - loss: 0.0038\n",
      "Epoch 5/50\n",
      "\u001b[1m60/60\u001b[0m \u001b[32m━━━━━━━━━━━━━━━━━━━━\u001b[0m\u001b[37m\u001b[0m \u001b[1m6s\u001b[0m 103ms/step - loss: 0.0032\n",
      "Epoch 6/50\n",
      "\u001b[1m60/60\u001b[0m \u001b[32m━━━━━━━━━━━━━━━━━━━━\u001b[0m\u001b[37m\u001b[0m \u001b[1m6s\u001b[0m 104ms/step - loss: 0.0034\n",
      "Epoch 7/50\n",
      "\u001b[1m60/60\u001b[0m \u001b[32m━━━━━━━━━━━━━━━━━━━━\u001b[0m\u001b[37m\u001b[0m \u001b[1m6s\u001b[0m 104ms/step - loss: 0.0031\n",
      "Epoch 8/50\n",
      "\u001b[1m60/60\u001b[0m \u001b[32m━━━━━━━━━━━━━━━━━━━━\u001b[0m\u001b[37m\u001b[0m \u001b[1m6s\u001b[0m 104ms/step - loss: 0.0031\n",
      "Epoch 9/50\n",
      "\u001b[1m60/60\u001b[0m \u001b[32m━━━━━━━━━━━━━━━━━━━━\u001b[0m\u001b[37m\u001b[0m \u001b[1m7s\u001b[0m 112ms/step - loss: 0.0027\n",
      "Epoch 10/50\n",
      "\u001b[1m60/60\u001b[0m \u001b[32m━━━━━━━━━━━━━━━━━━━━\u001b[0m\u001b[37m\u001b[0m \u001b[1m6s\u001b[0m 104ms/step - loss: 0.0030\n",
      "Epoch 11/50\n",
      "\u001b[1m60/60\u001b[0m \u001b[32m━━━━━━━━━━━━━━━━━━━━\u001b[0m\u001b[37m\u001b[0m \u001b[1m6s\u001b[0m 105ms/step - loss: 0.0027\n",
      "Epoch 12/50\n",
      "\u001b[1m60/60\u001b[0m \u001b[32m━━━━━━━━━━━━━━━━━━━━\u001b[0m\u001b[37m\u001b[0m \u001b[1m6s\u001b[0m 104ms/step - loss: 0.0025\n",
      "Epoch 13/50\n",
      "\u001b[1m60/60\u001b[0m \u001b[32m━━━━━━━━━━━━━━━━━━━━\u001b[0m\u001b[37m\u001b[0m \u001b[1m6s\u001b[0m 106ms/step - loss: 0.0023\n",
      "Epoch 14/50\n",
      "\u001b[1m60/60\u001b[0m \u001b[32m━━━━━━━━━━━━━━━━━━━━\u001b[0m\u001b[37m\u001b[0m \u001b[1m6s\u001b[0m 104ms/step - loss: 0.0024\n",
      "Epoch 15/50\n",
      "\u001b[1m60/60\u001b[0m \u001b[32m━━━━━━━━━━━━━━━━━━━━\u001b[0m\u001b[37m\u001b[0m \u001b[1m6s\u001b[0m 107ms/step - loss: 0.0028\n",
      "Epoch 16/50\n",
      "\u001b[1m60/60\u001b[0m \u001b[32m━━━━━━━━━━━━━━━━━━━━\u001b[0m\u001b[37m\u001b[0m \u001b[1m6s\u001b[0m 106ms/step - loss: 0.0027\n",
      "Epoch 17/50\n",
      "\u001b[1m60/60\u001b[0m \u001b[32m━━━━━━━━━━━━━━━━━━━━\u001b[0m\u001b[37m\u001b[0m \u001b[1m6s\u001b[0m 105ms/step - loss: 0.0024\n",
      "Epoch 18/50\n",
      "\u001b[1m60/60\u001b[0m \u001b[32m━━━━━━━━━━━━━━━━━━━━\u001b[0m\u001b[37m\u001b[0m \u001b[1m6s\u001b[0m 104ms/step - loss: 0.0019\n",
      "Epoch 19/50\n",
      "\u001b[1m60/60\u001b[0m \u001b[32m━━━━━━━━━━━━━━━━━━━━\u001b[0m\u001b[37m\u001b[0m \u001b[1m6s\u001b[0m 107ms/step - loss: 0.0020\n",
      "Epoch 20/50\n",
      "\u001b[1m60/60\u001b[0m \u001b[32m━━━━━━━━━━━━━━━━━━━━\u001b[0m\u001b[37m\u001b[0m \u001b[1m6s\u001b[0m 104ms/step - loss: 0.0023\n",
      "Epoch 21/50\n",
      "\u001b[1m60/60\u001b[0m \u001b[32m━━━━━━━━━━━━━━━━━━━━\u001b[0m\u001b[37m\u001b[0m \u001b[1m6s\u001b[0m 104ms/step - loss: 0.0022\n",
      "Epoch 22/50\n",
      "\u001b[1m60/60\u001b[0m \u001b[32m━━━━━━━━━━━━━━━━━━━━\u001b[0m\u001b[37m\u001b[0m \u001b[1m6s\u001b[0m 104ms/step - loss: 0.0020\n",
      "Epoch 23/50\n",
      "\u001b[1m60/60\u001b[0m \u001b[32m━━━━━━━━━━━━━━━━━━━━\u001b[0m\u001b[37m\u001b[0m \u001b[1m6s\u001b[0m 106ms/step - loss: 0.0020\n",
      "Epoch 24/50\n",
      "\u001b[1m60/60\u001b[0m \u001b[32m━━━━━━━━━━━━━━━━━━━━\u001b[0m\u001b[37m\u001b[0m \u001b[1m6s\u001b[0m 104ms/step - loss: 0.0027\n",
      "Epoch 25/50\n",
      "\u001b[1m60/60\u001b[0m \u001b[32m━━━━━━━━━━━━━━━━━━━━\u001b[0m\u001b[37m\u001b[0m \u001b[1m6s\u001b[0m 105ms/step - loss: 0.0023\n",
      "Epoch 26/50\n",
      "\u001b[1m60/60\u001b[0m \u001b[32m━━━━━━━━━━━━━━━━━━━━\u001b[0m\u001b[37m\u001b[0m \u001b[1m6s\u001b[0m 104ms/step - loss: 0.0019\n",
      "Epoch 27/50\n",
      "\u001b[1m60/60\u001b[0m \u001b[32m━━━━━━━━━━━━━━━━━━━━\u001b[0m\u001b[37m\u001b[0m \u001b[1m6s\u001b[0m 105ms/step - loss: 0.0017\n",
      "Epoch 28/50\n",
      "\u001b[1m60/60\u001b[0m \u001b[32m━━━━━━━━━━━━━━━━━━━━\u001b[0m\u001b[37m\u001b[0m \u001b[1m6s\u001b[0m 108ms/step - loss: 0.0022\n",
      "Epoch 29/50\n",
      "\u001b[1m60/60\u001b[0m \u001b[32m━━━━━━━━━━━━━━━━━━━━\u001b[0m\u001b[37m\u001b[0m \u001b[1m6s\u001b[0m 104ms/step - loss: 0.0023\n",
      "Epoch 30/50\n",
      "\u001b[1m60/60\u001b[0m \u001b[32m━━━━━━━━━━━━━━━━━━━━\u001b[0m\u001b[37m\u001b[0m \u001b[1m6s\u001b[0m 105ms/step - loss: 0.0018\n",
      "Epoch 31/50\n",
      "\u001b[1m60/60\u001b[0m \u001b[32m━━━━━━━━━━━━━━━━━━━━\u001b[0m\u001b[37m\u001b[0m \u001b[1m7s\u001b[0m 110ms/step - loss: 0.0017\n",
      "Epoch 32/50\n",
      "\u001b[1m60/60\u001b[0m \u001b[32m━━━━━━━━━━━━━━━━━━━━\u001b[0m\u001b[37m\u001b[0m \u001b[1m6s\u001b[0m 106ms/step - loss: 0.0018\n",
      "Epoch 33/50\n",
      "\u001b[1m60/60\u001b[0m \u001b[32m━━━━━━━━━━━━━━━━━━━━\u001b[0m\u001b[37m\u001b[0m \u001b[1m7s\u001b[0m 109ms/step - loss: 0.0019\n",
      "Epoch 34/50\n",
      "\u001b[1m60/60\u001b[0m \u001b[32m━━━━━━━━━━━━━━━━━━━━\u001b[0m\u001b[37m\u001b[0m \u001b[1m6s\u001b[0m 105ms/step - loss: 0.0016\n",
      "Epoch 35/50\n",
      "\u001b[1m60/60\u001b[0m \u001b[32m━━━━━━━━━━━━━━━━━━━━\u001b[0m\u001b[37m\u001b[0m \u001b[1m6s\u001b[0m 106ms/step - loss: 0.0019\n",
      "Epoch 36/50\n",
      "\u001b[1m60/60\u001b[0m \u001b[32m━━━━━━━━━━━━━━━━━━━━\u001b[0m\u001b[37m\u001b[0m \u001b[1m6s\u001b[0m 105ms/step - loss: 0.0016\n",
      "Epoch 37/50\n",
      "\u001b[1m60/60\u001b[0m \u001b[32m━━━━━━━━━━━━━━━━━━━━\u001b[0m\u001b[37m\u001b[0m \u001b[1m7s\u001b[0m 110ms/step - loss: 0.0017\n",
      "Epoch 38/50\n",
      "\u001b[1m60/60\u001b[0m \u001b[32m━━━━━━━━━━━━━━━━━━━━\u001b[0m\u001b[37m\u001b[0m \u001b[1m6s\u001b[0m 104ms/step - loss: 0.0019\n",
      "Epoch 39/50\n",
      "\u001b[1m60/60\u001b[0m \u001b[32m━━━━━━━━━━━━━━━━━━━━\u001b[0m\u001b[37m\u001b[0m \u001b[1m6s\u001b[0m 107ms/step - loss: 0.0017\n",
      "Epoch 40/50\n",
      "\u001b[1m60/60\u001b[0m \u001b[32m━━━━━━━━━━━━━━━━━━━━\u001b[0m\u001b[37m\u001b[0m \u001b[1m6s\u001b[0m 104ms/step - loss: 0.0017\n",
      "Epoch 41/50\n",
      "\u001b[1m60/60\u001b[0m \u001b[32m━━━━━━━━━━━━━━━━━━━━\u001b[0m\u001b[37m\u001b[0m \u001b[1m6s\u001b[0m 105ms/step - loss: 0.0014\n",
      "Epoch 42/50\n",
      "\u001b[1m60/60\u001b[0m \u001b[32m━━━━━━━━━━━━━━━━━━━━\u001b[0m\u001b[37m\u001b[0m \u001b[1m6s\u001b[0m 104ms/step - loss: 0.0020\n",
      "Epoch 43/50\n",
      "\u001b[1m60/60\u001b[0m \u001b[32m━━━━━━━━━━━━━━━━━━━━\u001b[0m\u001b[37m\u001b[0m \u001b[1m6s\u001b[0m 105ms/step - loss: 0.0019\n",
      "Epoch 44/50\n",
      "\u001b[1m60/60\u001b[0m \u001b[32m━━━━━━━━━━━━━━━━━━━━\u001b[0m\u001b[37m\u001b[0m \u001b[1m6s\u001b[0m 105ms/step - loss: 0.0017\n",
      "Epoch 45/50\n",
      "\u001b[1m60/60\u001b[0m \u001b[32m━━━━━━━━━━━━━━━━━━━━\u001b[0m\u001b[37m\u001b[0m \u001b[1m6s\u001b[0m 105ms/step - loss: 0.0018\n",
      "Epoch 46/50\n",
      "\u001b[1m60/60\u001b[0m \u001b[32m━━━━━━━━━━━━━━━━━━━━\u001b[0m\u001b[37m\u001b[0m \u001b[1m6s\u001b[0m 107ms/step - loss: 0.0017\n",
      "Epoch 47/50\n",
      "\u001b[1m60/60\u001b[0m \u001b[32m━━━━━━━━━━━━━━━━━━━━\u001b[0m\u001b[37m\u001b[0m \u001b[1m7s\u001b[0m 109ms/step - loss: 0.0017\n",
      "Epoch 48/50\n",
      "\u001b[1m60/60\u001b[0m \u001b[32m━━━━━━━━━━━━━━━━━━━━\u001b[0m\u001b[37m\u001b[0m \u001b[1m6s\u001b[0m 106ms/step - loss: 0.0016\n",
      "Epoch 49/50\n",
      "\u001b[1m60/60\u001b[0m \u001b[32m━━━━━━━━━━━━━━━━━━━━\u001b[0m\u001b[37m\u001b[0m \u001b[1m6s\u001b[0m 106ms/step - loss: 0.0015\n",
      "Epoch 50/50\n",
      "\u001b[1m60/60\u001b[0m \u001b[32m━━━━━━━━━━━━━━━━━━━━\u001b[0m\u001b[37m\u001b[0m \u001b[1m7s\u001b[0m 109ms/step - loss: 0.0018\n"
     ]
    },
    {
     "data": {
      "text/plain": [
       "<keras.src.callbacks.history.History at 0x3166be780>"
      ]
     },
     "execution_count": 27,
     "metadata": {},
     "output_type": "execute_result"
    }
   ],
   "source": [
    "import numpy as np\n",
    "\n",
    "# Convert y to a NumPy array if it is a list\n",
    "if isinstance(y, list):\n",
    "    y = np.array(y)\n",
    "\n",
    "# Check and print shapes\n",
    "print(f'Shape of x: {x.shape}')  # Ensure this is (samples, timesteps, features)\n",
    "print(f'Shape of y: {y.shape}')  # Ensure this is (samples, 1)\n",
    "\n",
    "# Reshape x to ensure it's 3D (samples, timesteps, features)\n",
    "if len(x.shape) != 3:\n",
    "    x = np.array(x).reshape((x.shape[0], x.shape[1], 1))  # Assuming 1 feature per timestep\n",
    "\n",
    "# Reshape y to ensure it's 2D (samples, 1)\n",
    "if len(y.shape) == 1:\n",
    "    y = np.array(y).reshape(-1, 1)  # Convert y from (samples,) to (samples, 1)\n",
    "\n",
    "# Ensure the number of samples match\n",
    "assert x.shape[0] == y.shape[0], \"Number of samples in x and y do not match\"\n",
    "\n",
    "# Now fit the model\n",
    "model.fit(x, y, epochs=50, batch_size=32, verbose=1)"
   ]
  },
  {
   "cell_type": "code",
   "execution_count": 44,
   "id": "12cbd286-9835-43ab-8c30-8b9d194ccf6b",
   "metadata": {},
   "outputs": [
    {
     "ename": "AttributeError",
     "evalue": "'NoneType' object has no attribute 'shape'",
     "output_type": "error",
     "traceback": [
      "\u001b[0;31m---------------------------------------------------------------------------\u001b[0m",
      "\u001b[0;31mAttributeError\u001b[0m                            Traceback (most recent call last)",
      "Cell \u001b[0;32mIn[44], line 1\u001b[0m\n\u001b[0;32m----> 1\u001b[0m \u001b[43mmodel\u001b[49m\u001b[38;5;241;43m.\u001b[39;49m\u001b[43mfit\u001b[49m\u001b[43m(\u001b[49m\u001b[43m)\u001b[49m\n",
      "File \u001b[0;32m~/Library/jupyterlab-desktop/jlab_server/lib/python3.12/site-packages/keras/src/utils/traceback_utils.py:122\u001b[0m, in \u001b[0;36mfilter_traceback.<locals>.error_handler\u001b[0;34m(*args, **kwargs)\u001b[0m\n\u001b[1;32m    119\u001b[0m     filtered_tb \u001b[38;5;241m=\u001b[39m _process_traceback_frames(e\u001b[38;5;241m.\u001b[39m__traceback__)\n\u001b[1;32m    120\u001b[0m     \u001b[38;5;66;03m# To get the full stack trace, call:\u001b[39;00m\n\u001b[1;32m    121\u001b[0m     \u001b[38;5;66;03m# `keras.config.disable_traceback_filtering()`\u001b[39;00m\n\u001b[0;32m--> 122\u001b[0m     \u001b[38;5;28;01mraise\u001b[39;00m e\u001b[38;5;241m.\u001b[39mwith_traceback(filtered_tb) \u001b[38;5;28;01mfrom\u001b[39;00m \u001b[38;5;28;01mNone\u001b[39;00m\n\u001b[1;32m    123\u001b[0m \u001b[38;5;28;01mfinally\u001b[39;00m:\n\u001b[1;32m    124\u001b[0m     \u001b[38;5;28;01mdel\u001b[39;00m filtered_tb\n",
      "File \u001b[0;32m~/Library/jupyterlab-desktop/jlab_server/lib/python3.12/site-packages/keras/src/trainers/data_adapters/data_adapter_utils.py:103\u001b[0m, in \u001b[0;36m<genexpr>\u001b[0;34m(.0)\u001b[0m\n\u001b[1;32m    102\u001b[0m \u001b[38;5;28;01mdef\u001b[39;00m \u001b[38;5;21mcheck_data_cardinality\u001b[39m(data):\n\u001b[0;32m--> 103\u001b[0m     num_samples \u001b[38;5;241m=\u001b[39m \u001b[38;5;28mset\u001b[39m(\u001b[38;5;28mint\u001b[39m(\u001b[43mi\u001b[49m\u001b[38;5;241;43m.\u001b[39;49m\u001b[43mshape\u001b[49m[\u001b[38;5;241m0\u001b[39m]) \u001b[38;5;28;01mfor\u001b[39;00m i \u001b[38;5;129;01min\u001b[39;00m tree\u001b[38;5;241m.\u001b[39mflatten(data))\n\u001b[1;32m    104\u001b[0m     \u001b[38;5;28;01mif\u001b[39;00m \u001b[38;5;28mlen\u001b[39m(num_samples) \u001b[38;5;241m>\u001b[39m \u001b[38;5;241m1\u001b[39m:\n\u001b[1;32m    105\u001b[0m         msg \u001b[38;5;241m=\u001b[39m (\n\u001b[1;32m    106\u001b[0m             \u001b[38;5;124m\"\u001b[39m\u001b[38;5;124mData cardinality is ambiguous. \u001b[39m\u001b[38;5;124m\"\u001b[39m\n\u001b[1;32m    107\u001b[0m             \u001b[38;5;124m\"\u001b[39m\u001b[38;5;124mMake sure all arrays contain the same number of samples.\u001b[39m\u001b[38;5;124m\"\u001b[39m\n\u001b[1;32m    108\u001b[0m         )\n",
      "\u001b[0;31mAttributeError\u001b[0m: 'NoneType' object has no attribute 'shape'"
     ]
    }
   ],
   "source": [
    "model.fit()"
   ]
  },
  {
   "cell_type": "code",
   "execution_count": 45,
   "id": "c56bc614-d3ff-4158-8fe4-60dcb8d3c3cc",
   "metadata": {},
   "outputs": [
    {
     "data": {
      "text/html": [
       "<pre style=\"white-space:pre;overflow-x:auto;line-height:normal;font-family:Menlo,'DejaVu Sans Mono',consolas,'Courier New',monospace\"><span style=\"font-weight: bold\">Model: \"sequential\"</span>\n",
       "</pre>\n"
      ],
      "text/plain": [
       "\u001b[1mModel: \"sequential\"\u001b[0m\n"
      ]
     },
     "metadata": {},
     "output_type": "display_data"
    },
    {
     "data": {
      "text/html": [
       "<pre style=\"white-space:pre;overflow-x:auto;line-height:normal;font-family:Menlo,'DejaVu Sans Mono',consolas,'Courier New',monospace\">┏━━━━━━━━━━━━━━━━━━━━━━━━━━━━━━━━━┳━━━━━━━━━━━━━━━━━━━━━━━━┳━━━━━━━━━━━━━━━┓\n",
       "┃<span style=\"font-weight: bold\"> Layer (type)                    </span>┃<span style=\"font-weight: bold\"> Output Shape           </span>┃<span style=\"font-weight: bold\">       Param # </span>┃\n",
       "┡━━━━━━━━━━━━━━━━━━━━━━━━━━━━━━━━━╇━━━━━━━━━━━━━━━━━━━━━━━━╇━━━━━━━━━━━━━━━┩\n",
       "│ lstm (<span style=\"color: #0087ff; text-decoration-color: #0087ff\">LSTM</span>)                     │ (<span style=\"color: #00d7ff; text-decoration-color: #00d7ff\">None</span>, <span style=\"color: #00af00; text-decoration-color: #00af00\">100</span>, <span style=\"color: #00af00; text-decoration-color: #00af00\">50</span>)        │        <span style=\"color: #00af00; text-decoration-color: #00af00\">10,400</span> │\n",
       "├─────────────────────────────────┼────────────────────────┼───────────────┤\n",
       "│ dropout (<span style=\"color: #0087ff; text-decoration-color: #0087ff\">Dropout</span>)               │ (<span style=\"color: #00d7ff; text-decoration-color: #00d7ff\">None</span>, <span style=\"color: #00af00; text-decoration-color: #00af00\">100</span>, <span style=\"color: #00af00; text-decoration-color: #00af00\">50</span>)        │             <span style=\"color: #00af00; text-decoration-color: #00af00\">0</span> │\n",
       "├─────────────────────────────────┼────────────────────────┼───────────────┤\n",
       "│ lstm_1 (<span style=\"color: #0087ff; text-decoration-color: #0087ff\">LSTM</span>)                   │ (<span style=\"color: #00d7ff; text-decoration-color: #00d7ff\">None</span>, <span style=\"color: #00af00; text-decoration-color: #00af00\">100</span>, <span style=\"color: #00af00; text-decoration-color: #00af00\">60</span>)        │        <span style=\"color: #00af00; text-decoration-color: #00af00\">26,640</span> │\n",
       "├─────────────────────────────────┼────────────────────────┼───────────────┤\n",
       "│ dropout_1 (<span style=\"color: #0087ff; text-decoration-color: #0087ff\">Dropout</span>)             │ (<span style=\"color: #00d7ff; text-decoration-color: #00d7ff\">None</span>, <span style=\"color: #00af00; text-decoration-color: #00af00\">100</span>, <span style=\"color: #00af00; text-decoration-color: #00af00\">60</span>)        │             <span style=\"color: #00af00; text-decoration-color: #00af00\">0</span> │\n",
       "├─────────────────────────────────┼────────────────────────┼───────────────┤\n",
       "│ lstm_2 (<span style=\"color: #0087ff; text-decoration-color: #0087ff\">LSTM</span>)                   │ (<span style=\"color: #00d7ff; text-decoration-color: #00d7ff\">None</span>, <span style=\"color: #00af00; text-decoration-color: #00af00\">100</span>, <span style=\"color: #00af00; text-decoration-color: #00af00\">80</span>)        │        <span style=\"color: #00af00; text-decoration-color: #00af00\">45,120</span> │\n",
       "├─────────────────────────────────┼────────────────────────┼───────────────┤\n",
       "│ dropout_2 (<span style=\"color: #0087ff; text-decoration-color: #0087ff\">Dropout</span>)             │ (<span style=\"color: #00d7ff; text-decoration-color: #00d7ff\">None</span>, <span style=\"color: #00af00; text-decoration-color: #00af00\">100</span>, <span style=\"color: #00af00; text-decoration-color: #00af00\">80</span>)        │             <span style=\"color: #00af00; text-decoration-color: #00af00\">0</span> │\n",
       "├─────────────────────────────────┼────────────────────────┼───────────────┤\n",
       "│ lstm_3 (<span style=\"color: #0087ff; text-decoration-color: #0087ff\">LSTM</span>)                   │ (<span style=\"color: #00d7ff; text-decoration-color: #00d7ff\">None</span>, <span style=\"color: #00af00; text-decoration-color: #00af00\">120</span>)            │        <span style=\"color: #00af00; text-decoration-color: #00af00\">96,480</span> │\n",
       "├─────────────────────────────────┼────────────────────────┼───────────────┤\n",
       "│ dropout_3 (<span style=\"color: #0087ff; text-decoration-color: #0087ff\">Dropout</span>)             │ (<span style=\"color: #00d7ff; text-decoration-color: #00d7ff\">None</span>, <span style=\"color: #00af00; text-decoration-color: #00af00\">120</span>)            │             <span style=\"color: #00af00; text-decoration-color: #00af00\">0</span> │\n",
       "├─────────────────────────────────┼────────────────────────┼───────────────┤\n",
       "│ dense (<span style=\"color: #0087ff; text-decoration-color: #0087ff\">Dense</span>)                   │ (<span style=\"color: #00d7ff; text-decoration-color: #00d7ff\">None</span>, <span style=\"color: #00af00; text-decoration-color: #00af00\">1</span>)              │           <span style=\"color: #00af00; text-decoration-color: #00af00\">121</span> │\n",
       "└─────────────────────────────────┴────────────────────────┴───────────────┘\n",
       "</pre>\n"
      ],
      "text/plain": [
       "┏━━━━━━━━━━━━━━━━━━━━━━━━━━━━━━━━━┳━━━━━━━━━━━━━━━━━━━━━━━━┳━━━━━━━━━━━━━━━┓\n",
       "┃\u001b[1m \u001b[0m\u001b[1mLayer (type)                   \u001b[0m\u001b[1m \u001b[0m┃\u001b[1m \u001b[0m\u001b[1mOutput Shape          \u001b[0m\u001b[1m \u001b[0m┃\u001b[1m \u001b[0m\u001b[1m      Param #\u001b[0m\u001b[1m \u001b[0m┃\n",
       "┡━━━━━━━━━━━━━━━━━━━━━━━━━━━━━━━━━╇━━━━━━━━━━━━━━━━━━━━━━━━╇━━━━━━━━━━━━━━━┩\n",
       "│ lstm (\u001b[38;5;33mLSTM\u001b[0m)                     │ (\u001b[38;5;45mNone\u001b[0m, \u001b[38;5;34m100\u001b[0m, \u001b[38;5;34m50\u001b[0m)        │        \u001b[38;5;34m10,400\u001b[0m │\n",
       "├─────────────────────────────────┼────────────────────────┼───────────────┤\n",
       "│ dropout (\u001b[38;5;33mDropout\u001b[0m)               │ (\u001b[38;5;45mNone\u001b[0m, \u001b[38;5;34m100\u001b[0m, \u001b[38;5;34m50\u001b[0m)        │             \u001b[38;5;34m0\u001b[0m │\n",
       "├─────────────────────────────────┼────────────────────────┼───────────────┤\n",
       "│ lstm_1 (\u001b[38;5;33mLSTM\u001b[0m)                   │ (\u001b[38;5;45mNone\u001b[0m, \u001b[38;5;34m100\u001b[0m, \u001b[38;5;34m60\u001b[0m)        │        \u001b[38;5;34m26,640\u001b[0m │\n",
       "├─────────────────────────────────┼────────────────────────┼───────────────┤\n",
       "│ dropout_1 (\u001b[38;5;33mDropout\u001b[0m)             │ (\u001b[38;5;45mNone\u001b[0m, \u001b[38;5;34m100\u001b[0m, \u001b[38;5;34m60\u001b[0m)        │             \u001b[38;5;34m0\u001b[0m │\n",
       "├─────────────────────────────────┼────────────────────────┼───────────────┤\n",
       "│ lstm_2 (\u001b[38;5;33mLSTM\u001b[0m)                   │ (\u001b[38;5;45mNone\u001b[0m, \u001b[38;5;34m100\u001b[0m, \u001b[38;5;34m80\u001b[0m)        │        \u001b[38;5;34m45,120\u001b[0m │\n",
       "├─────────────────────────────────┼────────────────────────┼───────────────┤\n",
       "│ dropout_2 (\u001b[38;5;33mDropout\u001b[0m)             │ (\u001b[38;5;45mNone\u001b[0m, \u001b[38;5;34m100\u001b[0m, \u001b[38;5;34m80\u001b[0m)        │             \u001b[38;5;34m0\u001b[0m │\n",
       "├─────────────────────────────────┼────────────────────────┼───────────────┤\n",
       "│ lstm_3 (\u001b[38;5;33mLSTM\u001b[0m)                   │ (\u001b[38;5;45mNone\u001b[0m, \u001b[38;5;34m120\u001b[0m)            │        \u001b[38;5;34m96,480\u001b[0m │\n",
       "├─────────────────────────────────┼────────────────────────┼───────────────┤\n",
       "│ dropout_3 (\u001b[38;5;33mDropout\u001b[0m)             │ (\u001b[38;5;45mNone\u001b[0m, \u001b[38;5;34m120\u001b[0m)            │             \u001b[38;5;34m0\u001b[0m │\n",
       "├─────────────────────────────────┼────────────────────────┼───────────────┤\n",
       "│ dense (\u001b[38;5;33mDense\u001b[0m)                   │ (\u001b[38;5;45mNone\u001b[0m, \u001b[38;5;34m1\u001b[0m)              │           \u001b[38;5;34m121\u001b[0m │\n",
       "└─────────────────────────────────┴────────────────────────┴───────────────┘\n"
      ]
     },
     "metadata": {},
     "output_type": "display_data"
    },
    {
     "data": {
      "text/html": [
       "<pre style=\"white-space:pre;overflow-x:auto;line-height:normal;font-family:Menlo,'DejaVu Sans Mono',consolas,'Courier New',monospace\"><span style=\"font-weight: bold\"> Total params: </span><span style=\"color: #00af00; text-decoration-color: #00af00\">536,285</span> (2.05 MB)\n",
       "</pre>\n"
      ],
      "text/plain": [
       "\u001b[1m Total params: \u001b[0m\u001b[38;5;34m536,285\u001b[0m (2.05 MB)\n"
      ]
     },
     "metadata": {},
     "output_type": "display_data"
    },
    {
     "data": {
      "text/html": [
       "<pre style=\"white-space:pre;overflow-x:auto;line-height:normal;font-family:Menlo,'DejaVu Sans Mono',consolas,'Courier New',monospace\"><span style=\"font-weight: bold\"> Trainable params: </span><span style=\"color: #00af00; text-decoration-color: #00af00\">178,761</span> (698.29 KB)\n",
       "</pre>\n"
      ],
      "text/plain": [
       "\u001b[1m Trainable params: \u001b[0m\u001b[38;5;34m178,761\u001b[0m (698.29 KB)\n"
      ]
     },
     "metadata": {},
     "output_type": "display_data"
    },
    {
     "data": {
      "text/html": [
       "<pre style=\"white-space:pre;overflow-x:auto;line-height:normal;font-family:Menlo,'DejaVu Sans Mono',consolas,'Courier New',monospace\"><span style=\"font-weight: bold\"> Non-trainable params: </span><span style=\"color: #00af00; text-decoration-color: #00af00\">0</span> (0.00 B)\n",
       "</pre>\n"
      ],
      "text/plain": [
       "\u001b[1m Non-trainable params: \u001b[0m\u001b[38;5;34m0\u001b[0m (0.00 B)\n"
      ]
     },
     "metadata": {},
     "output_type": "display_data"
    },
    {
     "data": {
      "text/html": [
       "<pre style=\"white-space:pre;overflow-x:auto;line-height:normal;font-family:Menlo,'DejaVu Sans Mono',consolas,'Courier New',monospace\"><span style=\"font-weight: bold\"> Optimizer params: </span><span style=\"color: #00af00; text-decoration-color: #00af00\">357,524</span> (1.36 MB)\n",
       "</pre>\n"
      ],
      "text/plain": [
       "\u001b[1m Optimizer params: \u001b[0m\u001b[38;5;34m357,524\u001b[0m (1.36 MB)\n"
      ]
     },
     "metadata": {},
     "output_type": "display_data"
    }
   ],
   "source": [
    "model.summary()"
   ]
  },
  {
   "cell_type": "code",
   "execution_count": 46,
   "id": "217f2ca9-8c72-4945-88ee-207083c2a035",
   "metadata": {},
   "outputs": [],
   "source": [
    "pa_100_days = data_train.tail(100)"
   ]
  },
  {
   "cell_type": "code",
   "execution_count": 47,
   "id": "e4c516af-de0e-4aae-aef2-2aefa89b7eca",
   "metadata": {},
   "outputs": [],
   "source": [
    "data_test = pd.concat([pa_100_days, data_test], ignore_index=True)"
   ]
  },
  {
   "cell_type": "code",
   "execution_count": 48,
   "id": "1fdf1308-2786-4023-a53d-d0b52f436901",
   "metadata": {},
   "outputs": [],
   "source": [
    "data_test_scale = scaler.fit_transform(data_test)"
   ]
  },
  {
   "cell_type": "code",
   "execution_count": 49,
   "id": "39800c3d-6abd-46a7-8249-800ac4b303b8",
   "metadata": {},
   "outputs": [],
   "source": [
    "x = []\n",
    "y = []\n",
    "\n",
    "for i in range(100,data_test.shape[0]):\n",
    "    x.append(data_train_scale[i-100:i])\n",
    "    y.append(data_train_scale[i,0])\n",
    "\n",
    "x, y = np.array(x), np.array(y)"
   ]
  },
  {
   "cell_type": "code",
   "execution_count": 50,
   "id": "6387d361-1704-43ab-93f5-b540e26e210e",
   "metadata": {},
   "outputs": [
    {
     "name": "stdout",
     "output_type": "stream",
     "text": [
      "\u001b[1m19/19\u001b[0m \u001b[32m━━━━━━━━━━━━━━━━━━━━\u001b[0m\u001b[37m\u001b[0m \u001b[1m1s\u001b[0m 30ms/step\n"
     ]
    }
   ],
   "source": [
    "y_predict = model.predict(x)"
   ]
  },
  {
   "cell_type": "code",
   "execution_count": 51,
   "id": "e343d85c-a7cd-4b4e-8765-c8d68643da1e",
   "metadata": {},
   "outputs": [
    {
     "data": {
      "text/plain": [
       "array([[0.08063228],\n",
       "       [0.08065166],\n",
       "       [0.08059566],\n",
       "       [0.08048135],\n",
       "       [0.08032402],\n",
       "       [0.0801291 ],\n",
       "       [0.07988542],\n",
       "       [0.07958202],\n",
       "       [0.0792001 ],\n",
       "       [0.07872014],\n",
       "       [0.0781325 ],\n",
       "       [0.07743531],\n",
       "       [0.07664557],\n",
       "       [0.0757889 ],\n",
       "       [0.07489626],\n",
       "       [0.07396032],\n",
       "       [0.07297899],\n",
       "       [0.07196991],\n",
       "       [0.07096861],\n",
       "       [0.06998505],\n",
       "       [0.06901267],\n",
       "       [0.06804739],\n",
       "       [0.06709394],\n",
       "       [0.0661854 ],\n",
       "       [0.06533335],\n",
       "       [0.06453331],\n",
       "       [0.06378597],\n",
       "       [0.06308575],\n",
       "       [0.06242785],\n",
       "       [0.06180218],\n",
       "       [0.0612016 ],\n",
       "       [0.06063651],\n",
       "       [0.06012185],\n",
       "       [0.05967659],\n",
       "       [0.05931284],\n",
       "       [0.05903594],\n",
       "       [0.05883218],\n",
       "       [0.0586767 ],\n",
       "       [0.05854803],\n",
       "       [0.05844007],\n",
       "       [0.05836685],\n",
       "       [0.05834877],\n",
       "       [0.05839379],\n",
       "       [0.05849333],\n",
       "       [0.05863412],\n",
       "       [0.05881251],\n",
       "       [0.0590279 ],\n",
       "       [0.05928846],\n",
       "       [0.05960858],\n",
       "       [0.06000632],\n",
       "       [0.06050809],\n",
       "       [0.0611248 ],\n",
       "       [0.06184825],\n",
       "       [0.06265746],\n",
       "       [0.06351626],\n",
       "       [0.06437244],\n",
       "       [0.06517479],\n",
       "       [0.06589349],\n",
       "       [0.06651513],\n",
       "       [0.06704302],\n",
       "       [0.06748444],\n",
       "       [0.0678454 ],\n",
       "       [0.06812127],\n",
       "       [0.06830709],\n",
       "       [0.06839108],\n",
       "       [0.06836335],\n",
       "       [0.06823646],\n",
       "       [0.06803374],\n",
       "       [0.06778263],\n",
       "       [0.06752023],\n",
       "       [0.06727873],\n",
       "       [0.06709951],\n",
       "       [0.06701098],\n",
       "       [0.06702749],\n",
       "       [0.06714807],\n",
       "       [0.06737083],\n",
       "       [0.06768735],\n",
       "       [0.06808585],\n",
       "       [0.06854703],\n",
       "       [0.06902914],\n",
       "       [0.06950203],\n",
       "       [0.06993985],\n",
       "       [0.07032998],\n",
       "       [0.07067411],\n",
       "       [0.07097867],\n",
       "       [0.07124844],\n",
       "       [0.07147653],\n",
       "       [0.07168026],\n",
       "       [0.07187447],\n",
       "       [0.07207569],\n",
       "       [0.07229865],\n",
       "       [0.07254903],\n",
       "       [0.07282104],\n",
       "       [0.07310592],\n",
       "       [0.07338771],\n",
       "       [0.07365222],\n",
       "       [0.07386987],\n",
       "       [0.07400785],\n",
       "       [0.07404937],\n",
       "       [0.07398115],\n",
       "       [0.0738003 ],\n",
       "       [0.07351041],\n",
       "       [0.07312833],\n",
       "       [0.07266985],\n",
       "       [0.07215253],\n",
       "       [0.07161136],\n",
       "       [0.07108049],\n",
       "       [0.07058598],\n",
       "       [0.07015793],\n",
       "       [0.06982553],\n",
       "       [0.06960468],\n",
       "       [0.06949826],\n",
       "       [0.06949872],\n",
       "       [0.069589  ],\n",
       "       [0.06974521],\n",
       "       [0.06993414],\n",
       "       [0.07012109],\n",
       "       [0.07028337],\n",
       "       [0.07041331],\n",
       "       [0.07051112],\n",
       "       [0.07058556],\n",
       "       [0.07065323],\n",
       "       [0.07073323],\n",
       "       [0.07083111],\n",
       "       [0.07094796],\n",
       "       [0.07108004],\n",
       "       [0.07121426],\n",
       "       [0.0713336 ],\n",
       "       [0.07143153],\n",
       "       [0.07151239],\n",
       "       [0.07158901],\n",
       "       [0.07168286],\n",
       "       [0.07180221],\n",
       "       [0.07194026],\n",
       "       [0.07209387],\n",
       "       [0.07224466],\n",
       "       [0.0723749 ],\n",
       "       [0.07247031],\n",
       "       [0.07252286],\n",
       "       [0.07251935],\n",
       "       [0.07245247],\n",
       "       [0.07232742],\n",
       "       [0.07215752],\n",
       "       [0.0719424 ],\n",
       "       [0.07168666],\n",
       "       [0.07139038],\n",
       "       [0.07103498],\n",
       "       [0.07059425],\n",
       "       [0.07005535],\n",
       "       [0.06941073],\n",
       "       [0.06865813],\n",
       "       [0.06779337],\n",
       "       [0.06683092],\n",
       "       [0.06580189],\n",
       "       [0.06474908],\n",
       "       [0.06372829],\n",
       "       [0.06278549],\n",
       "       [0.06195959],\n",
       "       [0.06128596],\n",
       "       [0.06078751],\n",
       "       [0.06047294],\n",
       "       [0.06034805],\n",
       "       [0.06040439],\n",
       "       [0.0606208 ],\n",
       "       [0.06095979],\n",
       "       [0.06137495],\n",
       "       [0.06182106],\n",
       "       [0.06226788],\n",
       "       [0.06269853],\n",
       "       [0.06309927],\n",
       "       [0.06345789],\n",
       "       [0.06376494],\n",
       "       [0.06400515],\n",
       "       [0.06416471],\n",
       "       [0.06423946],\n",
       "       [0.06423017],\n",
       "       [0.06414664],\n",
       "       [0.06400596],\n",
       "       [0.06382945],\n",
       "       [0.06363676],\n",
       "       [0.063446  ],\n",
       "       [0.0632614 ],\n",
       "       [0.06308226],\n",
       "       [0.06290449],\n",
       "       [0.06273209],\n",
       "       [0.0625567 ],\n",
       "       [0.06237075],\n",
       "       [0.06217934],\n",
       "       [0.06198262],\n",
       "       [0.06178312],\n",
       "       [0.06157409],\n",
       "       [0.06134315],\n",
       "       [0.06106313],\n",
       "       [0.06072243],\n",
       "       [0.06033088],\n",
       "       [0.05991386],\n",
       "       [0.05951028],\n",
       "       [0.05916286],\n",
       "       [0.05890237],\n",
       "       [0.05875151],\n",
       "       [0.0587174 ],\n",
       "       [0.0587946 ],\n",
       "       [0.05896537],\n",
       "       [0.05920458],\n",
       "       [0.05947404],\n",
       "       [0.05972302],\n",
       "       [0.05990778],\n",
       "       [0.06000184],\n",
       "       [0.0599878 ],\n",
       "       [0.05985737],\n",
       "       [0.05961907],\n",
       "       [0.05929856],\n",
       "       [0.05892883],\n",
       "       [0.05854976],\n",
       "       [0.05819593],\n",
       "       [0.05790505],\n",
       "       [0.05772644],\n",
       "       [0.05770381],\n",
       "       [0.05785511],\n",
       "       [0.05815695],\n",
       "       [0.05855805],\n",
       "       [0.05900389],\n",
       "       [0.05947553],\n",
       "       [0.05996007],\n",
       "       [0.06044434],\n",
       "       [0.06090869],\n",
       "       [0.06134005],\n",
       "       [0.0617346 ],\n",
       "       [0.06208743],\n",
       "       [0.06240548],\n",
       "       [0.06269698],\n",
       "       [0.06297599],\n",
       "       [0.06326236],\n",
       "       [0.06356223],\n",
       "       [0.06386845],\n",
       "       [0.06417282],\n",
       "       [0.06446153],\n",
       "       [0.06471084],\n",
       "       [0.06490467],\n",
       "       [0.06504457],\n",
       "       [0.06515379],\n",
       "       [0.06526096],\n",
       "       [0.06540552],\n",
       "       [0.06562148],\n",
       "       [0.06592743],\n",
       "       [0.06632887],\n",
       "       [0.06680845],\n",
       "       [0.06733988],\n",
       "       [0.06787553],\n",
       "       [0.06836143],\n",
       "       [0.06875814],\n",
       "       [0.0690306 ],\n",
       "       [0.06916653],\n",
       "       [0.06916519],\n",
       "       [0.06904685],\n",
       "       [0.06883763],\n",
       "       [0.06856792],\n",
       "       [0.06826459],\n",
       "       [0.06796452],\n",
       "       [0.06768559],\n",
       "       [0.0674306 ],\n",
       "       [0.0671885 ],\n",
       "       [0.06695059],\n",
       "       [0.06670646],\n",
       "       [0.06644185],\n",
       "       [0.06613863],\n",
       "       [0.06578635],\n",
       "       [0.0653844 ],\n",
       "       [0.06494577],\n",
       "       [0.06448813],\n",
       "       [0.06402889],\n",
       "       [0.06358321],\n",
       "       [0.06315316],\n",
       "       [0.06274088],\n",
       "       [0.06235209],\n",
       "       [0.06198157],\n",
       "       [0.06163716],\n",
       "       [0.06132917],\n",
       "       [0.06107239],\n",
       "       [0.06088895],\n",
       "       [0.06081788],\n",
       "       [0.06088045],\n",
       "       [0.06107737],\n",
       "       [0.0613911 ],\n",
       "       [0.06178096],\n",
       "       [0.06220281],\n",
       "       [0.06262192],\n",
       "       [0.06299981],\n",
       "       [0.06329718],\n",
       "       [0.06349455],\n",
       "       [0.06359705],\n",
       "       [0.06361741],\n",
       "       [0.06356323],\n",
       "       [0.06344412],\n",
       "       [0.06328365],\n",
       "       [0.06310131],\n",
       "       [0.0629102 ],\n",
       "       [0.06272705],\n",
       "       [0.06256855],\n",
       "       [0.06245105],\n",
       "       [0.06238247],\n",
       "       [0.06235428],\n",
       "       [0.06236191],\n",
       "       [0.06240198],\n",
       "       [0.06246015],\n",
       "       [0.0625232 ],\n",
       "       [0.06258772],\n",
       "       [0.06265517],\n",
       "       [0.06272291],\n",
       "       [0.06278323],\n",
       "       [0.06282064],\n",
       "       [0.06282167],\n",
       "       [0.0627913 ],\n",
       "       [0.06273852],\n",
       "       [0.06266935],\n",
       "       [0.06258285],\n",
       "       [0.06247856],\n",
       "       [0.06235948],\n",
       "       [0.06223999],\n",
       "       [0.06213519],\n",
       "       [0.06205836],\n",
       "       [0.06202127],\n",
       "       [0.06202729],\n",
       "       [0.0620707 ],\n",
       "       [0.06213795],\n",
       "       [0.06220205],\n",
       "       [0.0622364 ],\n",
       "       [0.06222422],\n",
       "       [0.06216009],\n",
       "       [0.06204589],\n",
       "       [0.06189173],\n",
       "       [0.06170113],\n",
       "       [0.06148231],\n",
       "       [0.06125851],\n",
       "       [0.06107399],\n",
       "       [0.06098604],\n",
       "       [0.06103711],\n",
       "       [0.06127216],\n",
       "       [0.06183784],\n",
       "       [0.06285512],\n",
       "       [0.06436594],\n",
       "       [0.0663387 ],\n",
       "       [0.0686975 ],\n",
       "       [0.07127891],\n",
       "       [0.0740173 ],\n",
       "       [0.07681914],\n",
       "       [0.07959493],\n",
       "       [0.08226925],\n",
       "       [0.08477326],\n",
       "       [0.08705458],\n",
       "       [0.08907447],\n",
       "       [0.09082571],\n",
       "       [0.09230617],\n",
       "       [0.09353374],\n",
       "       [0.0945285 ],\n",
       "       [0.09535091],\n",
       "       [0.09606802],\n",
       "       [0.09673595],\n",
       "       [0.09739822],\n",
       "       [0.09809141],\n",
       "       [0.0988327 ],\n",
       "       [0.09963287],\n",
       "       [0.10047463],\n",
       "       [0.10129294],\n",
       "       [0.10199567],\n",
       "       [0.10249002],\n",
       "       [0.10274619],\n",
       "       [0.10277803],\n",
       "       [0.10261402],\n",
       "       [0.10227798],\n",
       "       [0.10177438],\n",
       "       [0.10112377],\n",
       "       [0.10034389],\n",
       "       [0.0994486 ],\n",
       "       [0.09846996],\n",
       "       [0.09744181],\n",
       "       [0.09640855],\n",
       "       [0.09541748],\n",
       "       [0.09450497],\n",
       "       [0.09371282],\n",
       "       [0.0930738 ],\n",
       "       [0.09261728],\n",
       "       [0.09234041],\n",
       "       [0.09223343],\n",
       "       [0.09226202],\n",
       "       [0.09238507],\n",
       "       [0.09256692],\n",
       "       [0.09276101],\n",
       "       [0.09290767],\n",
       "       [0.09295523],\n",
       "       [0.09288037],\n",
       "       [0.09268138],\n",
       "       [0.09239003],\n",
       "       [0.09206852],\n",
       "       [0.09178557],\n",
       "       [0.09159463],\n",
       "       [0.09152723],\n",
       "       [0.09160354],\n",
       "       [0.091834  ],\n",
       "       [0.09222551],\n",
       "       [0.09277425],\n",
       "       [0.09348213],\n",
       "       [0.09434644],\n",
       "       [0.09536273],\n",
       "       [0.09649762],\n",
       "       [0.09769806],\n",
       "       [0.09892033],\n",
       "       [0.10019986],\n",
       "       [0.10158993],\n",
       "       [0.10312161],\n",
       "       [0.10480073],\n",
       "       [0.10662895],\n",
       "       [0.10856901],\n",
       "       [0.11058571],\n",
       "       [0.11264415],\n",
       "       [0.11471045],\n",
       "       [0.11675266],\n",
       "       [0.11874074],\n",
       "       [0.12063625],\n",
       "       [0.12240526],\n",
       "       [0.12402703],\n",
       "       [0.12548429],\n",
       "       [0.12675202],\n",
       "       [0.12782198],\n",
       "       [0.12869248],\n",
       "       [0.12938532],\n",
       "       [0.12992865],\n",
       "       [0.13037317],\n",
       "       [0.13076806],\n",
       "       [0.1311439 ],\n",
       "       [0.13151765],\n",
       "       [0.13189766],\n",
       "       [0.13227646],\n",
       "       [0.13266864],\n",
       "       [0.13308437],\n",
       "       [0.13351704],\n",
       "       [0.1339697 ],\n",
       "       [0.13443999],\n",
       "       [0.13492092],\n",
       "       [0.13539031],\n",
       "       [0.13582134],\n",
       "       [0.13618112],\n",
       "       [0.1364498 ],\n",
       "       [0.13661426],\n",
       "       [0.13668598],\n",
       "       [0.13667622],\n",
       "       [0.13658911],\n",
       "       [0.13643697],\n",
       "       [0.13623759],\n",
       "       [0.13601032],\n",
       "       [0.13577105],\n",
       "       [0.13554963],\n",
       "       [0.13539085],\n",
       "       [0.13532697],\n",
       "       [0.13536207],\n",
       "       [0.13546708],\n",
       "       [0.13560398],\n",
       "       [0.13573675],\n",
       "       [0.13582294],\n",
       "       [0.13581951],\n",
       "       [0.13569584],\n",
       "       [0.13544399],\n",
       "       [0.1350532 ],\n",
       "       [0.13453189],\n",
       "       [0.13388541],\n",
       "       [0.13313027],\n",
       "       [0.13228723],\n",
       "       [0.13138779],\n",
       "       [0.1304836 ],\n",
       "       [0.12961209],\n",
       "       [0.1288026 ],\n",
       "       [0.12806383],\n",
       "       [0.12742706],\n",
       "       [0.1269346 ],\n",
       "       [0.12663057],\n",
       "       [0.1265593 ],\n",
       "       [0.12670177],\n",
       "       [0.12699637],\n",
       "       [0.12735498],\n",
       "       [0.12769207],\n",
       "       [0.12793496],\n",
       "       [0.12803629],\n",
       "       [0.12797156],\n",
       "       [0.12773639],\n",
       "       [0.12734924],\n",
       "       [0.12685585],\n",
       "       [0.12629819],\n",
       "       [0.12571763],\n",
       "       [0.12515473],\n",
       "       [0.12463203],\n",
       "       [0.12416537],\n",
       "       [0.12376942],\n",
       "       [0.12345253],\n",
       "       [0.12320991],\n",
       "       [0.12305327],\n",
       "       [0.12299278],\n",
       "       [0.1230257 ],\n",
       "       [0.12314016],\n",
       "       [0.12330494],\n",
       "       [0.12348562],\n",
       "       [0.12366118],\n",
       "       [0.12382574],\n",
       "       [0.12399556],\n",
       "       [0.12419438],\n",
       "       [0.12443978],\n",
       "       [0.12474994],\n",
       "       [0.1251367 ],\n",
       "       [0.1256022 ],\n",
       "       [0.12614425],\n",
       "       [0.12675221],\n",
       "       [0.12740636],\n",
       "       [0.12807971],\n",
       "       [0.12874243],\n",
       "       [0.12937929],\n",
       "       [0.12998782],\n",
       "       [0.13056323],\n",
       "       [0.13110623],\n",
       "       [0.1316129 ],\n",
       "       [0.13207003],\n",
       "       [0.1324724 ],\n",
       "       [0.13281249],\n",
       "       [0.13308384],\n",
       "       [0.13328052],\n",
       "       [0.13340715],\n",
       "       [0.13348332],\n",
       "       [0.13353351],\n",
       "       [0.13358715],\n",
       "       [0.13367797],\n",
       "       [0.13381726],\n",
       "       [0.1340026 ],\n",
       "       [0.1342311 ],\n",
       "       [0.13445944],\n",
       "       [0.13464233],\n",
       "       [0.1347314 ],\n",
       "       [0.1346881 ],\n",
       "       [0.13447994],\n",
       "       [0.13409168],\n",
       "       [0.13352881],\n",
       "       [0.13280815],\n",
       "       [0.13195878],\n",
       "       [0.13102123],\n",
       "       [0.13004717],\n",
       "       [0.12908813],\n",
       "       [0.12819943],\n",
       "       [0.12741679],\n",
       "       [0.12675872],\n",
       "       [0.12622811],\n",
       "       [0.12582372],\n",
       "       [0.12552847],\n",
       "       [0.12532073],\n",
       "       [0.12517312],\n",
       "       [0.12506846],\n",
       "       [0.12498955],\n",
       "       [0.12493847],\n",
       "       [0.12492786],\n",
       "       [0.12496892],\n",
       "       [0.12507805],\n",
       "       [0.1252698 ],\n",
       "       [0.12554899],\n",
       "       [0.12590721],\n",
       "       [0.12631959],\n",
       "       [0.12675092],\n",
       "       [0.1271669 ],\n",
       "       [0.12755023],\n",
       "       [0.12789264],\n",
       "       [0.12818277],\n",
       "       [0.12841138],\n",
       "       [0.12857336],\n",
       "       [0.12866864],\n",
       "       [0.1286942 ],\n",
       "       [0.12863576],\n",
       "       [0.12848312],\n",
       "       [0.1282347 ],\n",
       "       [0.12789805],\n",
       "       [0.12749091],\n",
       "       [0.12701531],\n",
       "       [0.12646842],\n",
       "       [0.12585868],\n",
       "       [0.12520365],\n",
       "       [0.12452843],\n",
       "       [0.12386901],\n",
       "       [0.12325506],\n",
       "       [0.12271149],\n",
       "       [0.12225258],\n",
       "       [0.12189523],\n",
       "       [0.12165829],\n",
       "       [0.12155993],\n",
       "       [0.12160496],\n",
       "       [0.12179069],\n",
       "       [0.12210357],\n",
       "       [0.12253807],\n",
       "       [0.12308799],\n",
       "       [0.12374605],\n",
       "       [0.12449596],\n",
       "       [0.12531957],\n",
       "       [0.12619177],\n",
       "       [0.12708305],\n",
       "       [0.12796721],\n",
       "       [0.12882526],\n",
       "       [0.12966853],\n",
       "       [0.13051823],\n",
       "       [0.13139008],\n",
       "       [0.13229337],\n",
       "       [0.13322619]], dtype=float32)"
      ]
     },
     "execution_count": 51,
     "metadata": {},
     "output_type": "execute_result"
    }
   ],
   "source": [
    "y_predict "
   ]
  },
  {
   "cell_type": "code",
   "execution_count": 52,
   "id": "18b9a2c4-427e-4d8f-9d46-9ad71f77c0b1",
   "metadata": {},
   "outputs": [
    {
     "data": {
      "text/plain": [
       "array([0.01487675])"
      ]
     },
     "execution_count": 52,
     "metadata": {},
     "output_type": "execute_result"
    }
   ],
   "source": [
    "scaler.scale_"
   ]
  },
  {
   "cell_type": "code",
   "execution_count": 53,
   "id": "f4870edc-d044-4848-9cfe-95218e16ddaf",
   "metadata": {},
   "outputs": [],
   "source": [
    "scale = 1/scaler.scale_"
   ]
  },
  {
   "cell_type": "code",
   "execution_count": 54,
   "id": "2980a961-26bd-4ecd-ac19-65deaa992e2e",
   "metadata": {},
   "outputs": [],
   "source": [
    "y_predict = y_predict*scale"
   ]
  },
  {
   "cell_type": "code",
   "execution_count": 55,
   "id": "a1f68643-9286-4015-a3f7-0d3273293ed4",
   "metadata": {},
   "outputs": [],
   "source": [
    "y = y * scale"
   ]
  },
  {
   "cell_type": "code",
   "execution_count": 56,
   "id": "0fde851a-164b-4936-9cea-4dfd3f7f5a7c",
   "metadata": {},
   "outputs": [
    {
     "data": {
      "image/png": "[encoded data removed]",
      "text/plain": [
       "<Figure size 1000x800 with 1 Axes>"
      ]
     },
     "metadata": {},
     "output_type": "display_data"
    }
   ],
   "source": [
    "import matplotlib.pyplot as plt\n",
    "\n",
    "# Ensure y_predict and y are on the same scale\n",
    "plt.figure(figsize=(10, 8))\n",
    "\n",
    "plt.plot(y_predict, 'r', label='Predicted Price')\n",
    "plt.plot(y, 'g', label='Original Price')\n",
    "\n",
    "plt.xlabel('Time')\n",
    "plt.ylabel('Price')\n",
    "plt.legend()\n",
    "plt.show()"
   ]
  },
  {
   "cell_type": "code",
   "execution_count": 57,
   "id": "0577eaa0-7236-4ba6-a041-2a0b5dec2a9c",
   "metadata": {},
   "outputs": [],
   "source": [
    "model.save('Stock_Prediction_Model.keras')"
   ]
  },
  {
   "cell_type": "code",
   "execution_count": null,
   "id": "78e0e66d-d788-470a-9f53-9c14266affc9",
   "metadata": {},
   "outputs": [],
   "source": []
  },
  {
   "cell_type": "code",
   "execution_count": null,
   "id": "b97554af-de1f-447c-997d-2026e5c500b3",
   "metadata": {},
   "outputs": [],
   "source": []
  },
  {
   "cell_type": "code",
   "execution_count": null,
   "id": "a9876863-f891-4dba-87c0-2eb5960356d1",
   "metadata": {},
   "outputs": [],
   "source": []
  },
  {
   "cell_type": "code",
   "execution_count": null,
   "id": "ff17f379-3492-4f28-90e1-20a1cfc3cc12",
   "metadata": {},
   "outputs": [],
   "source": []
  },
  {
   "cell_type": "code",
   "execution_count": null,
   "id": "f97d72c9-a2f3-42ad-a049-e5c203554348",
   "metadata": {},
   "outputs": [],
   "source": []
  }
 ],
 "metadata": {
  "kernelspec": {
   "display_name": "Python 3 (ipykernel)",
   "language": "python",
   "name": "python3"
  },
  "language_info": {
   "codemirror_mode": {
    "name": "ipython",
    "version": 3
   },
   "file_extension": ".py",
   "mimetype": "text/x-python",
   "name": "python",
   "nbconvert_exporter": "python",
   "pygments_lexer": "ipython3",
   "version": "3.12.5"
  }
 },
 "nbformat": 4,
 "nbformat_minor": 5
}
